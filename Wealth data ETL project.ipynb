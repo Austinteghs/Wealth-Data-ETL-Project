{
 "cells": [
  {
   "cell_type": "markdown",
   "id": "af7cdb79-c441-473a-8a7d-7014fe55ebc1",
   "metadata": {},
   "source": [
    "### Import Libraries"
   ]
  },
  {
   "cell_type": "code",
   "execution_count": 12,
   "id": "94cca862-8f8c-47e5-aa1b-20db049b7033",
   "metadata": {},
   "outputs": [],
   "source": [
    "import pandas as pd\n",
    "import sqlite3"
   ]
  },
  {
   "cell_type": "markdown",
   "id": "b543a58b-ce26-4d1d-99b3-fcb4c595a2a9",
   "metadata": {},
   "source": [
    "### Creating the database"
   ]
  },
  {
   "cell_type": "code",
   "execution_count": 13,
   "id": "92334424-65cb-471a-9c0d-7b69c2e5b0d0",
   "metadata": {},
   "outputs": [],
   "source": [
    "def create_database():\n",
    "    try:\n",
    "        conn = sqlite3.connect('account.db')\n",
    "        cur = conn.cursor()\n",
    "        return cur, conn\n",
    "    except Exception as e:\n",
    "        print(f\"Error creating or connecting to database: {e}\")\n",
    "        return None, None"
   ]
  },
  {
   "cell_type": "markdown",
   "id": "d1c98406-a881-4400-90b3-510f79d6cd56",
   "metadata": {},
   "source": [
    "### Executing the database"
   ]
  },
  {
   "cell_type": "code",
   "execution_count": 14,
   "id": "90e95749-9d24-4fd9-82e8-1b7705887efe",
   "metadata": {},
   "outputs": [],
   "source": [
    "def execute_queries(cur, conn, queries):\n",
    "    try:\n",
    "        for query in queries:\n",
    "            cur.execute(query)\n",
    "        conn.commit()\n",
    "    except Exception as e:\n",
    "        print(f\"Error executing queries: {e}\")"
   ]
  },
  {
   "cell_type": "markdown",
   "id": "868ed45e-7bed-4e57-9f0e-12c1f8be4a82",
   "metadata": {},
   "source": [
    "### Inserting the data"
   ]
  },
  {
   "cell_type": "code",
   "execution_count": 15,
   "id": "bad6db0f-1cb2-4b64-a0e8-d9e27a9435f5",
   "metadata": {},
   "outputs": [],
   "source": [
    "def insert_data(cur, conn, table_name, dataframe):\n",
    "    try:\n",
    "        dataframe.to_sql(table_name, conn, if_exists='replace', index=False)\n",
    "    except Exception as e:\n",
    "        print(f\"Error inserting data into {table_name}: {e}\")"
   ]
  },
  {
   "cell_type": "markdown",
   "id": "8c6714a4-d944-49d4-aedd-182f6a504016",
   "metadata": {},
   "source": [
    "### Creating the tables and connecting to the account database"
   ]
  },
  {
   "cell_type": "code",
   "execution_count": 16,
   "id": "17512d31-1e31-466d-9653-6befd1f8c9bf",
   "metadata": {},
   "outputs": [],
   "source": [
    "def main():\n",
    "    # Create and connect to the 'account' database\n",
    "    cur, conn = create_database()\n",
    "\n",
    "    if cur is None or conn is None:\n",
    "        print(\"Failed to create or connect to the database.\")\n",
    "        return\n",
    "\n",
    "    # Load datasets\n",
    "    try:\n",
    "        accountscountry = pd.read_csv(\n",
    "            'Desktop/#From Eghosa/DE projects/Wealth Data/Wealth-AccountsCountry.csv', \n",
    "            usecols=[\"Code\", \"Short Name\", \"Table Name\", \"Long Name\", \"Currency Unit\"]\n",
    "        ).rename(columns={\n",
    "            \"Code\": \"code\",\n",
    "            \"Short Name\": \"short_name\",\n",
    "            \"Table Name\": \"table_name\",\n",
    "            \"Long Name\": \"long_name\",\n",
    "            \"Currency Unit\": \"currency_unit\"\n",
    "        })\n",
    "\n",
    "        accountsdata = pd.read_csv(\n",
    "            'Desktop/#From Eghosa/DE projects/Wealth Data/Wealth-AccountData.csv',\n",
    "            usecols=[\"Country Name\", \"Country Code\", \"Series Name\", \"Series Code\",\n",
    "                     \"2000 [YR2000]\", \"2005 [YR2005]\", \"2010 [YR2010]\", \"2015 [YR2015]\", \"2018 [YR2018]\"]\n",
    "        ).rename(columns={\n",
    "            'Country Name': 'country_name',\n",
    "            'Country Code': 'country_code',\n",
    "            'Series Name': 'indicator_name',\n",
    "            'Series Code': 'indicator_code',\n",
    "            '2000 [YR2000]': 'year_2000', \n",
    "            '2005 [YR2005]': 'year_2005', \n",
    "            '2010 [YR2010]': 'year_2010', \n",
    "            '2015 [YR2015]': 'year_2015', \n",
    "            '2018 [YR2018]': 'year_2018'\n",
    "        })\n",
    "\n",
    "        accountseries = pd.read_csv(\n",
    "            'Desktop/#From Eghosa/DE projects/Wealth Data/Wealth-AccountSeries.csv',\n",
    "            usecols=[\"Code\", \"Topic\", \"Indicator Name\", \"Long definition\", \"Source\"]\n",
    "        ).rename(columns={\n",
    "            'Code': 'series_code',\n",
    "            'Topic': 'topic',\n",
    "            'Indicator Name': 'indicator_name',\n",
    "            'Long definition': 'long_definition',\n",
    "            'Source': 'source'\n",
    "        })\n",
    "    except Exception as e:\n",
    "        print(f\"Error loading datasets: {e}\")\n",
    "        return\n",
    "\n",
    "    # SQL queries to create tables\n",
    "    create_table_queries = [\n",
    "        \"\"\"CREATE TABLE IF NOT EXISTS accountscountry(\n",
    "            code VARCHAR PRIMARY KEY,\n",
    "            short_name VARCHAR,\n",
    "            table_name VARCHAR,\n",
    "            long_name VARCHAR,\n",
    "            currency_unit VARCHAR\n",
    "        )\"\"\",\n",
    "        \"\"\"CREATE TABLE IF NOT EXISTS accountsdata(\n",
    "            country_name VARCHAR,\n",
    "            country_code VARCHAR,\n",
    "            indicator_name VARCHAR,\n",
    "            indicator_code VARCHAR,\n",
    "            year_2000 VARCHAR,\n",
    "            year_2005 VARCHAR,\n",
    "            year_2010 VARCHAR,\n",
    "            year_2015 VARCHAR,\n",
    "            year_2018 VARCHAR\n",
    "        )\"\"\",\n",
    "        \"\"\"CREATE TABLE IF NOT EXISTS accountseries(\n",
    "            series_code VARCHAR PRIMARY KEY,\n",
    "            topic VARCHAR,\n",
    "            indicator_name VARCHAR,\n",
    "            long_definition TEXT,\n",
    "            source VARCHAR\n",
    "        )\"\"\"\n",
    "    ]\n",
    "\n",
    "    # Execute table creation queries\n",
    "    execute_queries(cur, conn, create_table_queries)\n",
    "\n",
    "    # Insert data into tables\n",
    "    insert_data(cur, conn, \"accountscountry\", accountscountry)\n",
    "    insert_data(cur, conn, \"accountsdata\", accountsdata)\n",
    "    insert_data(cur, conn, \"accountseries\", accountseries)\n",
    "\n",
    "    # Close connection\n",
    "    cur.close()\n",
    "    conn.close()\n",
    "\n",
    "if __name__ == \"__main__\":\n",
    "    main()\n"
   ]
  },
  {
   "cell_type": "code",
   "execution_count": 17,
   "id": "153f18d4-f1a0-4467-931d-94c20ac0583d",
   "metadata": {},
   "outputs": [],
   "source": [
    "main()"
   ]
  },
  {
   "cell_type": "markdown",
   "id": "2774e95d-23c8-4735-9a80-f5c33bd1bfe3",
   "metadata": {},
   "source": [
    "### lets use the ipython-sql library to inspect a table"
   ]
  },
  {
   "cell_type": "code",
   "execution_count": null,
   "id": "0192192a-a116-4f3b-a8a6-be255c2fcc17",
   "metadata": {},
   "outputs": [],
   "source": [
    "!pip install ipython-sql"
   ]
  },
  {
   "cell_type": "code",
   "execution_count": 19,
   "id": "8daa6950-c884-438c-b692-2eb59f12b6fa",
   "metadata": {},
   "outputs": [
    {
     "name": "stdout",
     "output_type": "stream",
     "text": [
      "The sql extension is already loaded. To reload it, use:\n",
      "  %reload_ext sql\n"
     ]
    }
   ],
   "source": [
    "%load_ext sql\n",
    "%sql sqlite:///account.db\n"
   ]
  },
  {
   "cell_type": "code",
   "execution_count": 20,
   "id": "51062c78-19bd-4f24-bf7f-174d0ef5a594",
   "metadata": {},
   "outputs": [
    {
     "name": "stdout",
     "output_type": "stream",
     "text": [
      " * sqlite:///account.db\n",
      "Done.\n"
     ]
    },
    {
     "data": {
      "text/html": [
       "<table>\n",
       "    <thead>\n",
       "        <tr>\n",
       "            <th>code</th>\n",
       "            <th>long_name</th>\n",
       "            <th>currency_unit</th>\n",
       "            <th>table_name</th>\n",
       "            <th>short_name</th>\n",
       "        </tr>\n",
       "    </thead>\n",
       "    <tbody>\n",
       "        <tr>\n",
       "            <td>ALB</td>\n",
       "            <td>Republic of Albania</td>\n",
       "            <td>Albanian lek</td>\n",
       "            <td>Albania</td>\n",
       "            <td>Albania</td>\n",
       "        </tr>\n",
       "        <tr>\n",
       "            <td>ARG</td>\n",
       "            <td>Argentine Republic</td>\n",
       "            <td>Argentine peso</td>\n",
       "            <td>Argentina</td>\n",
       "            <td>Argentina</td>\n",
       "        </tr>\n",
       "        <tr>\n",
       "            <td>ARM</td>\n",
       "            <td>Republic of Armenia</td>\n",
       "            <td>Armenian dram</td>\n",
       "            <td>Armenia</td>\n",
       "            <td>Armenia</td>\n",
       "        </tr>\n",
       "    </tbody>\n",
       "</table>"
      ],
      "text/plain": [
       "[('ALB', 'Republic of Albania', 'Albanian lek', 'Albania', 'Albania'),\n",
       " ('ARG', 'Argentine Republic', 'Argentine peso', 'Argentina', 'Argentina'),\n",
       " ('ARM', 'Republic of Armenia', 'Armenian dram', 'Armenia', 'Armenia')]"
      ]
     },
     "execution_count": 20,
     "metadata": {},
     "output_type": "execute_result"
    }
   ],
   "source": [
    "%sql SELECT * FROM accountscountry limit 3\n"
   ]
  },
  {
   "cell_type": "code",
   "execution_count": 21,
   "id": "2bd1c304-ee41-488c-bfc2-c03ea96cb5f4",
   "metadata": {},
   "outputs": [
    {
     "name": "stdout",
     "output_type": "stream",
     "text": [
      " * sqlite:///account.db\n",
      "Done.\n"
     ]
    },
    {
     "data": {
      "text/html": [
       "<table>\n",
       "    <thead>\n",
       "        <tr>\n",
       "            <th>series_code</th>\n",
       "            <th>indicator_name</th>\n",
       "            <th>long_definition</th>\n",
       "            <th>source</th>\n",
       "            <th>topic</th>\n",
       "        </tr>\n",
       "    </thead>\n",
       "    <tbody>\n",
       "        <tr>\n",
       "            <td>NW.HCA.TO</td>\n",
       "            <td>Human capital (constant 2018 US$)</td>\n",
       "            <td>Human capital is computed as the present value of future earnings for the working population over their lifetimes. Values are measured at market exchange rates in constant 2018 US dollars, using a country-specific GDP deflator.</td>\n",
       "            <td>World Bank. 2021. The Changing Wealth of Nations 2021: Managing Assets for the Future. Washington, DC: World Bank. doi:10.1596/978-1-4648-1590-4.</td>\n",
       "            <td>Human capital</td>\n",
       "        </tr>\n",
       "        <tr>\n",
       "            <td>NW.HCA.PC</td>\n",
       "            <td>Human capital per capita (constant 2018 US$)</td>\n",
       "            <td>Human capital is computed as the present value of future earnings for the working population over their lifetimes. Values are measured at market exchange rates in constant 2018 US dollars, using a country-specific GDP deflator.</td>\n",
       "            <td>World Bank. 2021. The Changing Wealth of Nations 2021: Managing Assets for the Future. Washington, DC: World Bank. doi:10.1596/978-1-4648-1590-4.</td>\n",
       "            <td>Human capital</td>\n",
       "        </tr>\n",
       "        <tr>\n",
       "            <td>NW.HCA.FEMP.PC</td>\n",
       "            <td>Human capital per capita, employed female (constant 2018 US$)</td>\n",
       "            <td>Human capital is computed as the present value of future earnings for the working population over their lifetimes. Values are measured at market exchange rates in constant 2018 US dollars, using a country-specific GDP deflator.</td>\n",
       "            <td>World Bank. 2021. The Changing Wealth of Nations 2021: Managing Assets for the Future. Washington, DC: World Bank. doi:10.1596/978-1-4648-1590-4.</td>\n",
       "            <td>Human capital</td>\n",
       "        </tr>\n",
       "    </tbody>\n",
       "</table>"
      ],
      "text/plain": [
       "[('NW.HCA.TO', 'Human capital (constant 2018 US$)', 'Human capital is computed as the present value of future earnings for the working population over their lifetimes. Values are measured at market exchange rates in constant 2018 US dollars, using a country-specific GDP deflator.', 'World Bank. 2021. The Changing Wealth of Nations 2021: Managing Assets for the Future. Washington, DC: World Bank. doi:10.1596/978-1-4648-1590-4.', 'Human capital'),\n",
       " ('NW.HCA.PC', 'Human capital per capita (constant 2018 US$)', 'Human capital is computed as the present value of future earnings for the working population over their lifetimes. Values are measured at market exchange rates in constant 2018 US dollars, using a country-specific GDP deflator.', 'World Bank. 2021. The Changing Wealth of Nations 2021: Managing Assets for the Future. Washington, DC: World Bank. doi:10.1596/978-1-4648-1590-4.', 'Human capital'),\n",
       " ('NW.HCA.FEMP.PC', 'Human capital per capita, employed female (constant 2018 US$)', 'Human capital is computed as the present value of future earnings for the working population over their lifetimes. Values are measured at market exchange rates in constant 2018 US dollars, using a country-specific GDP deflator.', 'World Bank. 2021. The Changing Wealth of Nations 2021: Managing Assets for the Future. Washington, DC: World Bank. doi:10.1596/978-1-4648-1590-4.', 'Human capital')]"
      ]
     },
     "execution_count": 21,
     "metadata": {},
     "output_type": "execute_result"
    }
   ],
   "source": [
    "%sql SELECT * FROM accountseries limit 3\n"
   ]
  },
  {
   "cell_type": "code",
   "execution_count": 22,
   "id": "03baca82-b998-4833-95b3-28da9e0b69b8",
   "metadata": {},
   "outputs": [
    {
     "name": "stdout",
     "output_type": "stream",
     "text": [
      " * sqlite:///account.db\n",
      "Done.\n"
     ]
    },
    {
     "data": {
      "text/html": [
       "<table>\n",
       "    <thead>\n",
       "        <tr>\n",
       "            <th>country_name</th>\n",
       "            <th>country_code</th>\n",
       "            <th>indicator_name</th>\n",
       "            <th>indicator_code</th>\n",
       "            <th>year_2000</th>\n",
       "            <th>year_2005</th>\n",
       "            <th>year_2010</th>\n",
       "            <th>year_2015</th>\n",
       "            <th>year_2018</th>\n",
       "        </tr>\n",
       "    </thead>\n",
       "    <tbody>\n",
       "        <tr>\n",
       "            <td>Albania</td>\n",
       "            <td>ALB</td>\n",
       "            <td>Human capital (constant 2018 US$)</td>\n",
       "            <td>NW.HCA.TO</td>\n",
       "            <td>4.36E+10</td>\n",
       "            <td>54400000000.0</td>\n",
       "            <td>68100000000.0</td>\n",
       "            <td>73700000000.0</td>\n",
       "            <td>8.12E+10</td>\n",
       "        </tr>\n",
       "        <tr>\n",
       "            <td>Albania</td>\n",
       "            <td>ALB</td>\n",
       "            <td>Human capital per capita (constant 2018 US$)</td>\n",
       "            <td>NW.HCA.PC</td>\n",
       "            <td>14118.13</td>\n",
       "            <td>18072.3</td>\n",
       "            <td>23362.86</td>\n",
       "            <td>25593.71</td>\n",
       "            <td>28333.68</td>\n",
       "        </tr>\n",
       "        <tr>\n",
       "            <td>Albania</td>\n",
       "            <td>ALB</td>\n",
       "            <td>Human capital per capita, employed female (constant 2018 US$)</td>\n",
       "            <td>NW.HCA.FEMP.PC</td>\n",
       "            <td>3424.007</td>\n",
       "            <td>2222.115</td>\n",
       "            <td>2889.15</td>\n",
       "            <td>2987.545</td>\n",
       "            <td>3312.927</td>\n",
       "        </tr>\n",
       "    </tbody>\n",
       "</table>"
      ],
      "text/plain": [
       "[('Albania', 'ALB', 'Human capital (constant 2018 US$)', 'NW.HCA.TO', '4.36E+10', 54400000000.0, 68100000000.0, 73700000000.0, '8.12E+10'),\n",
       " ('Albania', 'ALB', 'Human capital per capita (constant 2018 US$)', 'NW.HCA.PC', '14118.13', 18072.3, 23362.86, 25593.71, '28333.68'),\n",
       " ('Albania', 'ALB', 'Human capital per capita, employed female (constant 2018 US$)', 'NW.HCA.FEMP.PC', '3424.007', 2222.115, 2889.15, 2987.545, '3312.927')]"
      ]
     },
     "execution_count": 22,
     "metadata": {},
     "output_type": "execute_result"
    }
   ],
   "source": [
    "%sql SELECT * FROM accountsdata limit 3\n"
   ]
  }
 ],
 "metadata": {
  "kernelspec": {
   "display_name": "Python 3 (ipykernel)",
   "language": "python",
   "name": "python3"
  },
  "language_info": {
   "codemirror_mode": {
    "name": "ipython",
    "version": 3
   },
   "file_extension": ".py",
   "mimetype": "text/x-python",
   "name": "python",
   "nbconvert_exporter": "python",
   "pygments_lexer": "ipython3",
   "version": "3.11.7"
  },
  "widgets": {
   "application/vnd.jupyter.widget-state+json": {
    "state": {},
    "version_major": 2,
    "version_minor": 0
   }
  }
 },
 "nbformat": 4,
 "nbformat_minor": 5
}
