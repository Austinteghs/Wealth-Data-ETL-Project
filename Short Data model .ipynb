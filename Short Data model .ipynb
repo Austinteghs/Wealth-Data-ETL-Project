{
 "cells": [
  {
   "cell_type": "code",
   "execution_count": 1,
   "id": "62b8a76b-f7bc-43da-a0ad-f5835c68c5ea",
   "metadata": {
    "scrolled": true
   },
   "outputs": [
    {
     "name": "stdout",
     "output_type": "stream",
     "text": [
      "Requirement already satisfied: psycopg2 in c:\\anaconda\\lib\\site-packages (2.9.9)\n"
     ]
    }
   ],
   "source": [
    "!pip install psycopg2"
   ]
  },
  {
   "cell_type": "markdown",
   "id": "344c2e10-dac6-45ad-b023-de00b3b78074",
   "metadata": {},
   "source": [
    "### importing the library"
   ]
  },
  {
   "cell_type": "code",
   "execution_count": 2,
   "id": "1663e182-b97f-4786-9489-6ffe2183ea9c",
   "metadata": {},
   "outputs": [],
   "source": [
    "import psycopg2"
   ]
  },
  {
   "cell_type": "markdown",
   "id": "8190a452-abb4-4cc2-9d73-c696056bde3a",
   "metadata": {},
   "source": [
    "### create a connection to the database"
   ]
  },
  {
   "cell_type": "code",
   "execution_count": 3,
   "id": "44a8fa73-e18a-4966-9b5f-01519482dba9",
   "metadata": {},
   "outputs": [],
   "source": [
    "try:\n",
    "    conn = psycopg2.connect('host=localhost dbname=postgres user=postgres password=0000')\n",
    "except psycopg2.Error as e:\n",
    "    print('Error: could not make connection to the Database')\n",
    "    print(e)"
   ]
  },
  {
   "cell_type": "markdown",
   "id": "3f82fdfb-1345-49a3-a4a5-5cb144f04599",
   "metadata": {},
   "source": [
    "### use the connection to get a cursor that could execute queries"
   ]
  },
  {
   "cell_type": "code",
   "execution_count": 4,
   "id": "a4768d24-7948-4225-94e6-bdfd8066f3c7",
   "metadata": {},
   "outputs": [],
   "source": [
    "try:\n",
    "    cur = conn.cursor()\n",
    "except psycopg2.Error as e:\n",
    "    print('Error: could not get cursor to the Database')\n",
    "    print(e)"
   ]
  },
  {
   "cell_type": "markdown",
   "id": "833bbd64-891c-43be-a896-8244468bb1a9",
   "metadata": {},
   "source": [
    "### set automatic commit to be true so that each action is commited without having to  conn.commit() after each command"
   ]
  },
  {
   "cell_type": "code",
   "execution_count": 5,
   "id": "b448fd56-2518-4d1e-ab7a-aebb59358c6b",
   "metadata": {},
   "outputs": [],
   "source": [
    "conn.set_session(autocommit=True)"
   ]
  },
  {
   "cell_type": "markdown",
   "id": "a4072d84-ad40-4b70-9912-509a849e67e6",
   "metadata": {},
   "source": [
    "### Create a database to do the work"
   ]
  },
  {
   "cell_type": "code",
   "execution_count": 6,
   "id": "373be1e1-5d99-4c7a-9f44-1945f7ae1a67",
   "metadata": {},
   "outputs": [
    {
     "name": "stdout",
     "output_type": "stream",
     "text": [
      "database \"myfirstdb\" already exists\n",
      "\n"
     ]
    }
   ],
   "source": [
    "try:\n",
    "    cur.execute('create database myfirstdb')\n",
    "except psycopg2.Error as e:\n",
    "    print(e)"
   ]
  },
  {
   "cell_type": "markdown",
   "id": "850887c0-d4f5-4455-b48e-3007c4c07774",
   "metadata": {},
   "source": [
    "### Add the database name in the connect. Let's close our connection to the default database, reconnect to the udacity database and get a new cursor"
   ]
  },
  {
   "cell_type": "code",
   "execution_count": 7,
   "id": "1c2e5fd0-f3e7-474a-b384-91ea7abfcc5b",
   "metadata": {},
   "outputs": [],
   "source": [
    "try:\n",
    "    conn.close()\n",
    "except psycopg2.Error as e:\n",
    "    print(e)\n",
    "\n",
    "try:\n",
    "    conn = psycopg2.connect('host=localhost dbname=postgres user=postgres password=0000')\n",
    "except psycopg2.Error as e:\n",
    "    print('Error: could not make connection to Postgres Database')\n",
    "    print(e)\n",
    "\n",
    "try:\n",
    "    cur = conn.cursor()\n",
    "except psycopg2.Error as e:\n",
    "    print('Error: could not get cursor to the Database')\n",
    "    print(e)\n",
    "\n",
    "conn.set_session(autocommit=True)"
   ]
  },
  {
   "cell_type": "markdown",
   "id": "bedc720f-b2a7-47c5-a195-918d4ba6a2e2",
   "metadata": {},
   "source": [
    "### Create table for students with the following Columns:\n",
    "* student_id\n",
    "* name\n",
    "* age\n",
    "* gender\n",
    "* subject\n",
    "* marks"
   ]
  },
  {
   "cell_type": "code",
   "execution_count": 8,
   "id": "87942292-0cbf-4aa7-894c-d34ace0b51b5",
   "metadata": {},
   "outputs": [],
   "source": [
    "try: \n",
    "    cur.execute(\"CREATE TABLE IF NOT EXISTS students (student_id int, name varchar,\\\n",
    "    age int, gender varchar, subject varchar, marks int);\")\n",
    "except psycopg2.Error as e: \n",
    "    print(\"Error: Issue creating table\")\n",
    "    print (e)"
   ]
  },
  {
   "cell_type": "markdown",
   "id": "04f4e327-ebe7-4d3e-8758-fdbdca84c842",
   "metadata": {},
   "source": [
    "### Insert the following two rows in the table\n",
    "* First Row: 1, \"Raj\", 23, \"Male\", \"Python\", 85\n",
    "* Second Row: 2, \"Priya\", 22, \"Female\", \"Python\", 86"
   ]
  },
  {
   "cell_type": "code",
   "execution_count": 9,
   "id": "04279ce5-11b7-425a-b65c-bcf0c42623bb",
   "metadata": {},
   "outputs": [],
   "source": [
    "try: \n",
    "    cur.execute(\"INSERT INTO students (student_id, name, age, gender, subject, marks) \\\n",
    "                 VALUES (%s, %s, %s, %s, %s, %s)\", \\\n",
    "                 (1, \"Raj\", 23, \"Male\", \"Python\", 85))\n",
    "except psycopg2.Error as e: \n",
    "    print(\"Error: Inserting Rows\")\n",
    "    print (e)\n",
    "    \n",
    "try: \n",
    "    cur.execute(\"INSERT INTO students (student_id, name, age, gender, subject, marks) \\\n",
    "                  VALUES (%s, %s, %s, %s, %s, %s)\",\n",
    "                  ( 2, \"Priya\", 22, \"Female\", \"Python\", 86))\n",
    "except psycopg2.Error as e: \n",
    "    print(\"Error: Inserting Rows\")\n",
    "    print (e)"
   ]
  },
  {
   "cell_type": "markdown",
   "id": "0205090b-4cb1-4199-886e-ffe93786f300",
   "metadata": {},
   "source": [
    "### Validate your data was inserted into the table."
   ]
  },
  {
   "cell_type": "code",
   "execution_count": 10,
   "id": "2d7a87cd-9bf8-4312-918e-2efef38bc60d",
   "metadata": {},
   "outputs": [
    {
     "name": "stdout",
     "output_type": "stream",
     "text": [
      "(1, 'Raj', 23, 'Male', 'Python', 85)\n",
      "(2, 'Priya', 22, 'Female', 'Python', 86)\n",
      "(1, 'Raj', 23, 'Male', 'Python', 85)\n",
      "(2, 'Priya', 22, 'Female', 'Python', 86)\n"
     ]
    }
   ],
   "source": [
    "try: \n",
    "    cur.execute(\"SELECT * FROM students;\")\n",
    "except psycopg2.Error as e: \n",
    "    print(\"Error: select *\")\n",
    "    print (e)\n",
    "\n",
    "row = cur.fetchone()\n",
    "while row:\n",
    "    print(row)\n",
    "    row = cur.fetchone()"
   ]
  },
  {
   "cell_type": "markdown",
   "id": "459bd00e-9ad0-4269-b835-8cd79b1f0e61",
   "metadata": {},
   "source": [
    "### And finally close your cursor and connection."
   ]
  },
  {
   "cell_type": "code",
   "execution_count": 12,
   "id": "4f970bb6-6286-4028-93e9-85831bd17110",
   "metadata": {},
   "outputs": [],
   "source": [
    "cur.close()\n",
    "conn.close()"
   ]
  },
  {
   "cell_type": "code",
   "execution_count": null,
   "id": "6db14ce9-c54c-47fd-89ab-ce9c822d2eca",
   "metadata": {},
   "outputs": [],
   "source": []
  },
  {
   "cell_type": "code",
   "execution_count": null,
   "id": "9f813d61-90c3-4fa5-a07d-46d55b2a6fa6",
   "metadata": {},
   "outputs": [],
   "source": []
  },
  {
   "cell_type": "code",
   "execution_count": null,
   "id": "e1b8407b-ac68-496f-af8b-62c1b5f3e998",
   "metadata": {},
   "outputs": [],
   "source": []
  },
  {
   "cell_type": "code",
   "execution_count": null,
   "id": "3f6d232f-3f2a-4bf2-8bbe-73b1da318e53",
   "metadata": {},
   "outputs": [],
   "source": []
  },
  {
   "cell_type": "code",
   "execution_count": null,
   "id": "0d54adc4-09bb-43ff-8b99-d1b7360df3ff",
   "metadata": {},
   "outputs": [],
   "source": []
  }
 ],
 "metadata": {
  "kernelspec": {
   "display_name": "Python 3 (ipykernel)",
   "language": "python",
   "name": "python3"
  },
  "language_info": {
   "codemirror_mode": {
    "name": "ipython",
    "version": 3
   },
   "file_extension": ".py",
   "mimetype": "text/x-python",
   "name": "python",
   "nbconvert_exporter": "python",
   "pygments_lexer": "ipython3",
   "version": "3.11.7"
  },
  "widgets": {
   "application/vnd.jupyter.widget-state+json": {
    "state": {},
    "version_major": 2,
    "version_minor": 0
   }
  }
 },
 "nbformat": 4,
 "nbformat_minor": 5
}
